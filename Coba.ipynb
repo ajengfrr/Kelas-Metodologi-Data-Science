{
 "cells": [
  {
   "cell_type": "markdown",
   "id": "31d6411e",
   "metadata": {},
   "source": [
    "# Data Science untuk pemula\n",
    "Ini merupakan file ipynb untuk main python."
   ]
  },
  {
   "cell_type": "code",
   "execution_count": 1,
   "id": "3fb45a1c",
   "metadata": {},
   "outputs": [
    {
     "name": "stdout",
     "output_type": "stream",
     "text": [
      "Test!\n"
     ]
    }
   ],
   "source": [
    "print(\"Test!\")"
   ]
  },
  {
   "cell_type": "code",
   "execution_count": null,
   "id": "fc2d171b",
   "metadata": {},
   "outputs": [],
   "source": []
  }
 ],
 "metadata": {
  "kernelspec": {
   "display_name": "Python 3 (ipykernel)",
   "language": "python",
   "name": "python3"
  },
  "language_info": {
   "codemirror_mode": {
    "name": "ipython",
    "version": 3
   },
   "file_extension": ".py",
   "mimetype": "text/x-python",
   "name": "python",
   "nbconvert_exporter": "python",
   "pygments_lexer": "ipython3",
   "version": "3.9.7"
  }
 },
 "nbformat": 4,
 "nbformat_minor": 5
}
